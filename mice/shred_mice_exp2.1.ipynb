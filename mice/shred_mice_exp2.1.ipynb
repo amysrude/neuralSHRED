{
 "cells": [
  {
   "cell_type": "markdown",
   "id": "7a85ab4a",
   "metadata": {},
   "source": [
    "# Applying SHRED to the Mice Dataset "
   ]
  },
  {
   "cell_type": "markdown",
   "id": "293ebf79",
   "metadata": {},
   "source": [
    "Dataset obtained from Allen Barain Atlas https://allensdk.readthedocs.io/en/latest/visual_coding_neuropixels.html"
   ]
  },
  {
   "cell_type": "markdown",
   "id": "f0b4d579",
   "metadata": {},
   "source": [
    "SHRED (SHallow REcurrent Decoder) models are a network architecture that merges a recurrent layer (LSTM) with a shallow decoder network (SDN) to reconstruct high-dimensional spatio-temporal fields from a trajectory of sensor measurements of the field. More formally, the SHRED architecture can be written as\n",
    "$$ \\mathcal {H} \\left( \\{ y_i \\} _{i=t-k}^t \\right) = \\mathcal {F} \\left( \\mathcal {G} \\left( \\{ y_i \\} _{i=t-k}^t \\right) ; W_{RN}) ; W_{SD} \\right)$$\n",
    "where $\\mathcal F$ is a feed forward network parameterized by weights $W_{SD}$, $\\mathcal G$ is a LSTM network parameterized by weights $W_{RN}$, and $\\{ y_i \\} _{i=t-k}^t$ is a trajectory of sensor measurements of a high-dimensional spatio-temporal field $\\{ x_i \\} _{i=t-k}^t$."
   ]
  },
  {
   "cell_type": "markdown",
   "id": "f7d088d3",
   "metadata": {},
   "source": [
    "Goal: Reconstruct LFP potential from single unit recordings\n",
    "\n",
    "Spike band: \n",
    "- ~30 kHz sample rate\n",
    "- 500 Hz analog hi-pass\n",
    "- 150 Hz digital hi-pass\n",
    "\n",
    "\n",
    "LFP band: \n",
    "- ~2.5 kHz original sample rate\n",
    "- 1000 Hz analog lo-pass\n",
    "- 625 Hz digital lo-pass\n",
    "- NWB includes every 2nd sample and every 4th channel"
   ]
  },
  {
   "cell_type": "code",
   "execution_count": 1,
   "id": "e9bd9e67",
   "metadata": {},
   "outputs": [],
   "source": [
    "# Importing all dependencies \n",
    "import numpy as np\n",
    "import numpy as np\n",
    "import torch\n",
    "import subprocess\n",
    "import os\n",
    "import torch\n",
    "import matplotlib.pyplot as plt\n",
    "from sklearn.preprocessing import MinMaxScaler\n",
    "import random\n",
    "import mne\n",
    "from scipy.signal import butter, filtfilt\n",
    "from scipy.signal import welch\n",
    "from scipy.interpolate import CubicSpline\n",
    "from scipy.io import loadmat\n",
    "from sklearn.linear_model import Ridge"
   ]
  },
  {
   "cell_type": "code",
   "execution_count": 2,
   "id": "3804e2d5",
   "metadata": {},
   "outputs": [],
   "source": [
    "import xarray as xr\n",
    "import pandas as pd\n",
    "from scipy.ndimage import gaussian_filter\n",
    "from pathlib import Path\n",
    "import json\n",
    "from IPython.display import display\n",
    "from PIL import Image\n",
    "\n",
    "from allensdk.brain_observatory.ecephys.visualization import plot_mean_waveforms, plot_spike_counts, raster_plot\n",
    "from allensdk.brain_observatory.visualization import plot_running_speed\n",
    "\n",
    "# tell pandas to show all columns when we display a DataFrame\n",
    "pd.set_option(\"display.max_columns\", None)"
   ]
  },
  {
   "cell_type": "code",
   "execution_count": 3,
   "id": "3989502b",
   "metadata": {},
   "outputs": [
    {
     "name": "stderr",
     "output_type": "stream",
     "text": [
      "/home/amy/SHRED_neuro/neuroenv/lib/python3.10/site-packages/tqdm/auto.py:21: TqdmWarning: IProgress not found. Please update jupyter and ipywidgets. See https://ipywidgets.readthedocs.io/en/stable/user_install.html\n",
      "  from .autonotebook import tqdm as notebook_tqdm\n"
     ]
    }
   ],
   "source": [
    "#Set up data cache\n",
    "from allensdk.brain_observatory.ecephys.ecephys_project_cache import EcephysProjectCache\n",
    "\n",
    "data_directory = \"/home/amy/SHRED_neuro/mice/data\" #where data will be stored\n",
    "manifest_path = os.path.join(data_directory, 'manifest.json')\n",
    "cache = EcephysProjectCache.from_warehouse(manifest = manifest_path)"
   ]
  },
  {
   "cell_type": "code",
   "execution_count": 4,
   "id": "0a43383a",
   "metadata": {},
   "outputs": [
    {
     "name": "stdout",
     "output_type": "stream",
     "text": [
      "Total number of sessions: 58\n"
     ]
    },
    {
     "data": {
      "text/html": [
       "<div>\n",
       "<style scoped>\n",
       "    .dataframe tbody tr th:only-of-type {\n",
       "        vertical-align: middle;\n",
       "    }\n",
       "\n",
       "    .dataframe tbody tr th {\n",
       "        vertical-align: top;\n",
       "    }\n",
       "\n",
       "    .dataframe thead th {\n",
       "        text-align: right;\n",
       "    }\n",
       "</style>\n",
       "<table border=\"1\" class=\"dataframe\">\n",
       "  <thead>\n",
       "    <tr style=\"text-align: right;\">\n",
       "      <th></th>\n",
       "      <th>published_at</th>\n",
       "      <th>specimen_id</th>\n",
       "      <th>session_type</th>\n",
       "      <th>age_in_days</th>\n",
       "      <th>sex</th>\n",
       "      <th>full_genotype</th>\n",
       "      <th>unit_count</th>\n",
       "      <th>channel_count</th>\n",
       "      <th>probe_count</th>\n",
       "      <th>ecephys_structure_acronyms</th>\n",
       "    </tr>\n",
       "    <tr>\n",
       "      <th>id</th>\n",
       "      <th></th>\n",
       "      <th></th>\n",
       "      <th></th>\n",
       "      <th></th>\n",
       "      <th></th>\n",
       "      <th></th>\n",
       "      <th></th>\n",
       "      <th></th>\n",
       "      <th></th>\n",
       "      <th></th>\n",
       "    </tr>\n",
       "  </thead>\n",
       "  <tbody>\n",
       "    <tr>\n",
       "      <th>756029989</th>\n",
       "      <td>2019-10-03T00:00:00Z</td>\n",
       "      <td>734865738</td>\n",
       "      <td>brain_observatory_1.1</td>\n",
       "      <td>96.0</td>\n",
       "      <td>M</td>\n",
       "      <td>Sst-IRES-Cre/wt;Ai32(RCL-ChR2(H134R)_EYFP)/wt</td>\n",
       "      <td>684</td>\n",
       "      <td>2214</td>\n",
       "      <td>6</td>\n",
       "      <td>[TH, DG, CA3, CA1, VISl, nan, PO, Eth, LP, VIS...</td>\n",
       "    </tr>\n",
       "  </tbody>\n",
       "</table>\n",
       "</div>"
      ],
      "text/plain": [
       "                   published_at  specimen_id           session_type  \\\n",
       "id                                                                    \n",
       "756029989  2019-10-03T00:00:00Z    734865738  brain_observatory_1.1   \n",
       "\n",
       "           age_in_days sex                                  full_genotype  \\\n",
       "id                                                                          \n",
       "756029989         96.0   M  Sst-IRES-Cre/wt;Ai32(RCL-ChR2(H134R)_EYFP)/wt   \n",
       "\n",
       "           unit_count  channel_count  probe_count  \\\n",
       "id                                                  \n",
       "756029989         684           2214            6   \n",
       "\n",
       "                                  ecephys_structure_acronyms  \n",
       "id                                                            \n",
       "756029989  [TH, DG, CA3, CA1, VISl, nan, PO, Eth, LP, VIS...  "
      ]
     },
     "execution_count": 4,
     "metadata": {},
     "output_type": "execute_result"
    }
   ],
   "source": [
    "sessions = cache.get_session_table()\n",
    "\n",
    "print('Total number of sessions: ' + str(len(sessions)))\n",
    "\n",
    "sessions.head()\n",
    "\n",
    "\n",
    "# Can also filter which mice to select\n",
    "filtered_sessions = sessions[(sessions.index == 756029989)]\n",
    "\n",
    "filtered_sessions.head()"
   ]
  },
  {
   "cell_type": "code",
   "execution_count": 5,
   "id": "d1ccb1e5",
   "metadata": {},
   "outputs": [
    {
     "name": "stderr",
     "output_type": "stream",
     "text": [
      "/home/amy/SHRED_neuro/neuroenv/lib/python3.10/site-packages/hdmf/spec/namespace.py:535: UserWarning: Ignoring cached namespace 'hdmf-common' version 1.1.3 because version 1.8.0 is already loaded.\n",
      "  warn(\"Ignoring cached namespace '%s' version %s because version %s is already loaded.\"\n",
      "/home/amy/SHRED_neuro/neuroenv/lib/python3.10/site-packages/hdmf/spec/namespace.py:535: UserWarning: Ignoring cached namespace 'core' version 2.2.2 because version 2.7.0 is already loaded.\n",
      "  warn(\"Ignoring cached namespace '%s' version %s because version %s is already loaded.\"\n"
     ]
    },
    {
     "name": "stdout",
     "output_type": "stream",
     "text": [
      "['DETAILED_STIMULUS_PARAMETERS', 'LazyProperty', 'age_in_days', 'api', 'channel_structure_intervals', 'channels', 'conditionwise_spike_statistics', 'ecephys_session_id', 'from_nwb_path', 'full_genotype', 'get_current_source_density', 'get_inter_presentation_intervals_for_stimulus', 'get_invalid_times', 'get_lfp', 'get_parameter_values_for_stimulus', 'get_pupil_data', 'get_screen_gaze_data', 'get_stimulus_epochs', 'get_stimulus_parameter_values', 'get_stimulus_table', 'inter_presentation_intervals', 'invalid_times', 'mean_waveforms', 'metadata', 'num_channels', 'num_probes', 'num_stimulus_presentations', 'num_units', 'optogenetic_stimulation_epochs', 'presentationwise_spike_counts', 'presentationwise_spike_times', 'probes', 'rig_equipment_name', 'rig_geometry_data', 'running_speed', 'session_start_time', 'session_type', 'sex', 'specimen_name', 'spike_amplitudes', 'spike_times', 'stimulus_conditions', 'stimulus_names', 'stimulus_presentations', 'structure_acronyms', 'structurewise_unit_counts', 'units']\n"
     ]
    }
   ],
   "source": [
    "#Loading dataset for specific session\n",
    "session_id = 756029989 # for example\n",
    "session = cache.get_session_data(session_id)\n",
    "\n",
    "print([attr_or_method for attr_or_method in dir(session) if attr_or_method[0] != '_'])\n"
   ]
  },
  {
   "cell_type": "markdown",
   "id": "02bbcecc",
   "metadata": {},
   "source": [
    "**Finding well-isolated, high-firing rate unit from the visual cortex and the associated LFP**"
   ]
  },
  {
   "cell_type": "code",
   "execution_count": 6,
   "id": "1f735fc0",
   "metadata": {},
   "outputs": [
    {
     "name": "stderr",
     "output_type": "stream",
     "text": [
      "/home/amy/SHRED_neuro/neuroenv/lib/python3.10/site-packages/hdmf/spec/namespace.py:535: UserWarning: Ignoring cached namespace 'hdmf-common' version 1.1.3 because version 1.8.0 is already loaded.\n",
      "  warn(\"Ignoring cached namespace '%s' version %s because version %s is already loaded.\"\n",
      "/home/amy/SHRED_neuro/neuroenv/lib/python3.10/site-packages/hdmf/spec/namespace.py:535: UserWarning: Ignoring cached namespace 'core' version 2.2.2 because version 2.7.0 is already loaded.\n",
      "  warn(\"Ignoring cached namespace '%s' version %s because version %s is already loaded.\"\n",
      "/home/amy/SHRED_neuro/neuroenv/lib/python3.10/site-packages/hdmf/spec/namespace.py:535: UserWarning: Ignoring cached namespace 'hdmf-common' version 1.1.3 because version 1.8.0 is already loaded.\n",
      "  warn(\"Ignoring cached namespace '%s' version %s because version %s is already loaded.\"\n",
      "/home/amy/SHRED_neuro/neuroenv/lib/python3.10/site-packages/hdmf/spec/namespace.py:535: UserWarning: Ignoring cached namespace 'core' version 2.2.2 because version 2.7.0 is already loaded.\n",
      "  warn(\"Ignoring cached namespace '%s' version %s because version %s is already loaded.\"\n"
     ]
    },
    {
     "data": {
      "text/plain": [
       "20"
      ]
     },
     "execution_count": 6,
     "metadata": {},
     "output_type": "execute_result"
    }
   ],
   "source": [
    "probe_id = session.probes.index.values[0]\n",
    "\n",
    "units_of_interest = session.units[(session.units.probe_id == probe_id) &\n",
    "                                  (session.units.ecephys_structure_acronym.str.find('VIS') > -1) &\n",
    "                                  (session.units.firing_rate > 10) & \n",
    "                                  (session.units.nn_hit_rate > 0.95)]\n",
    "                                  \n",
    "len(units_of_interest)"
   ]
  },
  {
   "cell_type": "code",
   "execution_count": 10,
   "id": "950f66d8",
   "metadata": {},
   "outputs": [
    {
     "name": "stdout",
     "output_type": "stream",
     "text": [
      "[951816951 951816936 951817018 951817350 951817332 951817489 951817396\n",
      " 951817440 951817643 951817514 951817506 951817532 951817473 951817568\n",
      " 951817559 951817551 951817798 951817731 951817927 951817953]\n"
     ]
    }
   ],
   "source": [
    "unit_id = units_of_interest.index.values\n",
    "print(unit_id)\n"
   ]
  },
  {
   "cell_type": "code",
   "execution_count": 73,
   "id": "bfb75ea3",
   "metadata": {},
   "outputs": [
    {
     "name": "stdout",
     "output_type": "stream",
     "text": [
      "20\n"
     ]
    }
   ],
   "source": [
    "start_time = 1585.734418\n",
    "end_time = 1587.736098\n",
    "print(len(units_of_interest))\n",
    "indices = []\n",
    "for k in range(len(units_of_interest)):\n",
    "    unit_id = units_of_interest.index.values[k]\n",
    "    spike_times = session.spike_times[unit_id]\n",
    "    times_in_range = spike_times[(spike_times > start_time) & (spike_times < end_time)]\n",
    "    indices.append(times_in_range)\n"
   ]
  },
  {
   "cell_type": "code",
   "execution_count": 74,
   "id": "bd07655f",
   "metadata": {},
   "outputs": [
    {
     "data": {
      "text/plain": [
       "Text(0, 0.5, 'Units')"
      ]
     },
     "execution_count": 74,
     "metadata": {},
     "output_type": "execute_result"
    },
    {
     "data": {
      "image/png": "[encoded data removed]",
      "text/plain": [
       "<Figure size 640x480 with 1 Axes>"
      ]
     },
     "metadata": {},
     "output_type": "display_data"
    }
   ],
   "source": [
    "colors = [\n",
    "    \"#1f77b4\", \"#ff7f0e\", \"#2ca02c\", \"#d62728\", \"#9467bd\",\n",
    "    \"#8c564b\", \"#e377c2\", \"#7f7f7f\", \"#bcbd22\", \"#17becf\",\n",
    "    \"#aec7e8\", \"#ffbb78\", \"#98df8a\", \"#ff9896\", \"#c5b0d5\",\n",
    "    \"#c49c94\", \"#f7b6d2\", \"#c7c7c7\", \"#dbdb8d\", \"#9edae5\"\n",
    "]\n",
    "\n",
    "for k in range(len(units_of_interest)):\n",
    "    plt.eventplot(indices[k] - 1585.734418, lineoffsets=k, colors=colors[k])\n",
    "\n",
    "plt.xlabel('Time Since Stimulus Onset (s)')\n",
    "plt.ylabel('Units')\n"
   ]
  },
  {
   "cell_type": "code",
   "execution_count": 88,
   "id": "1d554dcf",
   "metadata": {},
   "outputs": [
    {
     "data": {
      "text/plain": [
       "[<matplotlib.lines.Line2D at 0x7c379cf28100>]"
      ]
     },
     "execution_count": 88,
     "metadata": {},
     "output_type": "execute_result"
    },
    {
     "data": {
      "image/png": "[encoded data removed]",
      "text/plain": [
       "<Figure size 640x480 with 1 Axes>"
      ]
     },
     "metadata": {},
     "output_type": "display_data"
    }
   ],
   "source": [
    "### Converting to numpy arrays\n",
    "time = np.linspace(1585.734418, 1587.736098, 3000)\n",
    "data = np.zeros((len(units_of_interest), len(time)))\n",
    "for k in range(len(units_of_interest)):\n",
    "    target_arr = np.round(time, decimals = 3)\n",
    "    query_vals = np.round(indices[k], decimals = 3)\n",
    "\n",
    "    spike_ind = [np.where(target_arr == val)[0][0] for val in query_vals]\n",
    "    unit_array = np.zeros((time.shape))\n",
    "    unit_array[spike_ind] = 1\n",
    "    data[k,:] = unit_array\n",
    "    # ones_indices = np.where(unit_array == 1)[0]\n",
    "    # plt.eventplot(time[ones_indices], lineoffsets=k, color = 'purple')  \n",
    "\n",
    "plt.xlabel('Stimulus Time (s)')\n",
    "plt.ylabel('LFP (V)')\n",
    "plt.plot(data[5,:])"
   ]
  },
  {
   "cell_type": "markdown",
   "id": "5f21889f",
   "metadata": {},
   "source": [
    "**Applying SHRED on Dataset**"
   ]
  },
  {
   "cell_type": "code",
   "execution_count": 89,
   "id": "327edcb0",
   "metadata": {},
   "outputs": [],
   "source": [
    "#Importing packages\n",
    "\n",
    "os.environ[\"CUDA_VISIBLE_DEVICES\"]=\"0\"\n",
    "\n",
    "os.chdir(\"../\") \n",
    "os.chdir(\"/home/amy/SHRED_neuro/shred\")\n",
    "from processdata_shred import load_data as load_data_shred\n",
    "from processdata_shred import TimeSeriesDataset as TimeSeriesDataset_shred\n",
    "import models_shred\n",
    "\n",
    "\n",
    "# Change into the directory\n",
    "os.chdir(\"/home/amy/SHRED_neuro/sindy-shred\") ## Change to where the repo was cloned\n",
    "\n",
    "from processdata import load_data\n",
    "from processdata import TimeSeriesDataset\n",
    "import sindy\n",
    "import pysindy as ps\n",
    "from pysindy.differentiation import FiniteDifference\n",
    "\n",
    "os.environ[\"CUDA_VISIBLE_DEVICES\"]=\"0\"\n",
    "os.chdir(\"/home/amy/SHRED_neuro/sindy-shred\")\n",
    "import sindy_shred"
   ]
  },
  {
   "cell_type": "code",
   "execution_count": 98,
   "id": "2f609fa8",
   "metadata": {},
   "outputs": [
    {
     "name": "stdout",
     "output_type": "stream",
     "text": [
      "(3000, 20)\n",
      "1500.0\n",
      "0.0006674491496596602\n"
     ]
    }
   ],
   "source": [
    "load_X = data.T\n",
    "print(load_X.shape)\n",
    "\n",
    "n_t = load_X.shape[0]\n",
    "n_s = load_X.shape[1]\n",
    "probe = 'a'\n",
    "dt = time[1] - time[0]\n",
    "sr = time.shape[0]/2\n",
    "print(sr)\n",
    "print(dt)\n",
    "\n",
    "\n",
    "latent_dim = 64\n",
    "poly_order = 1\n",
    "include_sine = False\n",
    "library_dim = sindy.library_size(latent_dim, poly_order, include_sine, True)\n",
    "\n",
    "num_neurons = 3\n",
    "lags = 100\n",
    "test_val_size = 500\n",
    "\n",
    "train_indices = np.arange(0, n_t - lags - test_val_size)\n",
    "mask = np.ones(n_t - lags)\n",
    "mask[train_indices] = 0\n",
    "valid_test_indices = np.arange(0, n_t - lags)[np.where(mask!=0)[0]]\n",
    "valid_indices = valid_test_indices[int(test_val_size/2):test_val_size]\n",
    "test_indices = valid_test_indices[:int(test_val_size/2)]\n"
   ]
  },
  {
   "cell_type": "code",
   "execution_count": 99,
   "id": "efce4b11",
   "metadata": {},
   "outputs": [
    {
     "name": "stdout",
     "output_type": "stream",
     "text": [
      "/home/amy/SHRED_neuro/mice/data_output/exp_2.1/neuron_loc_a_0.npy\n",
      "1 : tensor(0.0141, device='cuda:0', grad_fn=<AddBackward0>)\n",
      "2 : tensor(0.0139, device='cuda:0', grad_fn=<AddBackward0>)\n",
      "3 : tensor(0.0137, device='cuda:0', grad_fn=<AddBackward0>)\n",
      "4 : tensor(0.0137, device='cuda:0', grad_fn=<AddBackward0>)\n",
      "5 : tensor(0.0131, device='cuda:0', grad_fn=<AddBackward0>)\n",
      "6 : tensor(0.0116, device='cuda:0', grad_fn=<AddBackward0>)\n",
      "7 : tensor(0.0111, device='cuda:0', grad_fn=<AddBackward0>)\n",
      "8 : tensor(0.0111, device='cuda:0', grad_fn=<AddBackward0>)\n",
      "9 : tensor(0.0109, device='cuda:0', grad_fn=<AddBackward0>)\n",
      "10 : tensor(0.0108, device='cuda:0', grad_fn=<AddBackward0>)\n",
      "11 : tensor(0.0108, device='cuda:0', grad_fn=<AddBackward0>)\n",
      "12 : tensor(0.0106, device='cuda:0', grad_fn=<AddBackward0>)\n",
      "13 : tensor(0.0103, device='cuda:0', grad_fn=<AddBackward0>)\n",
      "14 : tensor(0.0101, device='cuda:0', grad_fn=<AddBackward0>)\n",
      "15 : tensor(0.0101, device='cuda:0', grad_fn=<AddBackward0>)\n",
      "16 : tensor(0.0098, device='cuda:0', grad_fn=<AddBackward0>)\n",
      "17 : tensor(0.0097, device='cuda:0', grad_fn=<AddBackward0>)\n",
      "18 : tensor(0.0096, device='cuda:0', grad_fn=<AddBackward0>)\n",
      "19 : tensor(0.0095, device='cuda:0', grad_fn=<AddBackward0>)\n",
      "20 : tensor(0.0094, device='cuda:0', grad_fn=<AddBackward0>)\n",
      "21 : tensor(0.0094, device='cuda:0', grad_fn=<AddBackward0>)\n",
      "22 : tensor(0.0093, device='cuda:0', grad_fn=<AddBackward0>)\n",
      "23 : tensor(0.0095, device='cuda:0', grad_fn=<AddBackward0>)\n",
      "24 : tensor(0.0093, device='cuda:0', grad_fn=<AddBackward0>)\n",
      "25 : tensor(0.0094, device='cuda:0', grad_fn=<AddBackward0>)\n",
      "26 : tensor(0.0093, device='cuda:0', grad_fn=<AddBackward0>)\n",
      "27 : tensor(0.0093, device='cuda:0', grad_fn=<AddBackward0>)\n",
      "28 : tensor(0.0092, device='cuda:0', grad_fn=<AddBackward0>)\n",
      "29 : tensor(0.0093, device='cuda:0', grad_fn=<AddBackward0>)\n",
      "30 : tensor(0.0093, device='cuda:0', grad_fn=<AddBackward0>)\n",
      "31 : tensor(0.0093, device='cuda:0', grad_fn=<AddBackward0>)\n",
      "32 : tensor(0.0093, device='cuda:0', grad_fn=<AddBackward0>)\n",
      "33 : tensor(0.0093, device='cuda:0', grad_fn=<AddBackward0>)\n",
      "34 : tensor(0.0093, device='cuda:0', grad_fn=<AddBackward0>)\n",
      "35 : tensor(0.0093, device='cuda:0', grad_fn=<AddBackward0>)\n",
      "36 : tensor(0.0093, device='cuda:0', grad_fn=<AddBackward0>)\n",
      "37 : tensor(0.0093, device='cuda:0', grad_fn=<AddBackward0>)\n",
      "38 : tensor(0.0092, device='cuda:0', grad_fn=<AddBackward0>)\n",
      "39 : tensor(0.0093, device='cuda:0', grad_fn=<AddBackward0>)\n",
      "40 : tensor(0.0093, device='cuda:0', grad_fn=<AddBackward0>)\n",
      "41 : tensor(0.0093, device='cuda:0', grad_fn=<AddBackward0>)\n",
      "42 : tensor(0.0094, device='cuda:0', grad_fn=<AddBackward0>)\n",
      "43 : tensor(0.0093, device='cuda:0', grad_fn=<AddBackward0>)\n",
      "44 : tensor(0.0093, device='cuda:0', grad_fn=<AddBackward0>)\n",
      "45 : tensor(0.0092, device='cuda:0', grad_fn=<AddBackward0>)\n",
      "46 : tensor(0.0093, device='cuda:0', grad_fn=<AddBackward0>)\n",
      "47 : tensor(0.0092, device='cuda:0', grad_fn=<AddBackward0>)\n",
      "48 : tensor(0.0092, device='cuda:0', grad_fn=<AddBackward0>)\n",
      "49 : tensor(0.0092, device='cuda:0', grad_fn=<AddBackward0>)\n",
      "50 : tensor(0.0093, device='cuda:0', grad_fn=<AddBackward0>)\n",
      "51 : tensor(0.0093, device='cuda:0', grad_fn=<AddBackward0>)\n",
      "52 : tensor(0.0092, device='cuda:0', grad_fn=<AddBackward0>)\n",
      "53 : tensor(0.0093, device='cuda:0', grad_fn=<AddBackward0>)\n",
      "54 : tensor(0.0092, device='cuda:0', grad_fn=<AddBackward0>)\n",
      "55 : tensor(0.0093, device='cuda:0', grad_fn=<AddBackward0>)\n",
      "56 : tensor(0.0093, device='cuda:0', grad_fn=<AddBackward0>)\n",
      "57 : tensor(0.0092, device='cuda:0', grad_fn=<AddBackward0>)\n",
      "58 : tensor(0.0093, device='cuda:0', grad_fn=<AddBackward0>)\n",
      "59 : tensor(0.0092, device='cuda:0', grad_fn=<AddBackward0>)\n",
      "60 : tensor(0.0093, device='cuda:0', grad_fn=<AddBackward0>)\n",
      "61 : tensor(0.0093, device='cuda:0', grad_fn=<AddBackward0>)\n",
      "62 : tensor(0.0092, device='cuda:0', grad_fn=<AddBackward0>)\n",
      "63 : tensor(0.0093, device='cuda:0', grad_fn=<AddBackward0>)\n",
      "64 : tensor(0.0093, device='cuda:0', grad_fn=<AddBackward0>)\n",
      "65 : tensor(0.0092, device='cuda:0', grad_fn=<AddBackward0>)\n",
      "66 : tensor(0.0093, device='cuda:0', grad_fn=<AddBackward0>)\n",
      "67 : tensor(0.0092, device='cuda:0', grad_fn=<AddBackward0>)\n",
      "68 : tensor(0.0092, device='cuda:0', grad_fn=<AddBackward0>)\n",
      "69 : tensor(0.0092, device='cuda:0', grad_fn=<AddBackward0>)\n",
      "70 : tensor(0.0093, device='cuda:0', grad_fn=<AddBackward0>)\n",
      "71 : tensor(0.0092, device='cuda:0', grad_fn=<AddBackward0>)\n",
      "72 : tensor(0.0092, device='cuda:0', grad_fn=<AddBackward0>)\n",
      "73 : tensor(0.0092, device='cuda:0', grad_fn=<AddBackward0>)\n",
      "74 : tensor(0.0092, device='cuda:0', grad_fn=<AddBackward0>)\n",
      "75 : tensor(0.0092, device='cuda:0', grad_fn=<AddBackward0>)\n",
      "76 : tensor(0.0093, device='cuda:0', grad_fn=<AddBackward0>)\n",
      "77 : tensor(0.0092, device='cuda:0', grad_fn=<AddBackward0>)\n",
      "78 : tensor(0.0092, device='cuda:0', grad_fn=<AddBackward0>)\n",
      "79 : tensor(0.0093, device='cuda:0', grad_fn=<AddBackward0>)\n",
      "80 : tensor(0.0093, device='cuda:0', grad_fn=<AddBackward0>)\n",
      "81 : tensor(0.0092, device='cuda:0', grad_fn=<AddBackward0>)\n",
      "82 : tensor(0.0092, device='cuda:0', grad_fn=<AddBackward0>)\n",
      "83 : tensor(0.0092, device='cuda:0', grad_fn=<AddBackward0>)\n",
      "84 : tensor(0.0092, device='cuda:0', grad_fn=<AddBackward0>)\n",
      "85 : tensor(0.0092, device='cuda:0', grad_fn=<AddBackward0>)\n",
      "86 : tensor(0.0092, device='cuda:0', grad_fn=<AddBackward0>)\n",
      "87 : tensor(0.0093, device='cuda:0', grad_fn=<AddBackward0>)\n",
      "88 : tensor(0.0092, device='cuda:0', grad_fn=<AddBackward0>)\n",
      "89 : tensor(0.0093, device='cuda:0', grad_fn=<AddBackward0>)\n",
      "90 : tensor(0.0093, device='cuda:0', grad_fn=<AddBackward0>)\n",
      "91 : tensor(0.0092, device='cuda:0', grad_fn=<AddBackward0>)\n",
      "92 : tensor(0.0092, device='cuda:0', grad_fn=<AddBackward0>)\n",
      "93 : tensor(0.0092, device='cuda:0', grad_fn=<AddBackward0>)\n",
      "94 : tensor(0.0092, device='cuda:0', grad_fn=<AddBackward0>)\n",
      "95 : tensor(0.0092, device='cuda:0', grad_fn=<AddBackward0>)\n",
      "96 : tensor(0.0092, device='cuda:0', grad_fn=<AddBackward0>)\n",
      "97 : tensor(0.0093, device='cuda:0', grad_fn=<AddBackward0>)\n",
      "98 : tensor(0.0092, device='cuda:0', grad_fn=<AddBackward0>)\n",
      "99 : tensor(0.0092, device='cuda:0', grad_fn=<AddBackward0>)\n",
      "100 : tensor(0.0092, device='cuda:0', grad_fn=<AddBackward0>)\n",
      "Training epoch 100\n",
      "Error tensor(0.8741, device='cuda:0')\n",
      "101 : tensor(0.0093, device='cuda:0', grad_fn=<AddBackward0>)\n",
      "102 : tensor(0.0092, device='cuda:0', grad_fn=<AddBackward0>)\n",
      "103 : tensor(0.0093, device='cuda:0', grad_fn=<AddBackward0>)\n",
      "104 : tensor(0.0092, device='cuda:0', grad_fn=<AddBackward0>)\n",
      "105 : tensor(0.0093, device='cuda:0', grad_fn=<AddBackward0>)\n",
      "106 : tensor(0.0092, device='cuda:0', grad_fn=<AddBackward0>)\n",
      "107 : tensor(0.0092, device='cuda:0', grad_fn=<AddBackward0>)\n",
      "108 : tensor(0.0092, device='cuda:0', grad_fn=<AddBackward0>)\n",
      "109 : tensor(0.0092, device='cuda:0', grad_fn=<AddBackward0>)\n",
      "110 : tensor(0.0092, device='cuda:0', grad_fn=<AddBackward0>)\n",
      "111 : tensor(0.0092, device='cuda:0', grad_fn=<AddBackward0>)\n",
      "112 : tensor(0.0093, device='cuda:0', grad_fn=<AddBackward0>)\n",
      "113 : tensor(0.0093, device='cuda:0', grad_fn=<AddBackward0>)\n",
      "114 : tensor(0.0092, device='cuda:0', grad_fn=<AddBackward0>)\n",
      "115 : tensor(0.0092, device='cuda:0', grad_fn=<AddBackward0>)\n",
      "116 : tensor(0.0092, device='cuda:0', grad_fn=<AddBackward0>)\n",
      "117 : tensor(0.0092, device='cuda:0', grad_fn=<AddBackward0>)\n",
      "118 : tensor(0.0092, device='cuda:0', grad_fn=<AddBackward0>)\n",
      "119 : tensor(0.0092, device='cuda:0', grad_fn=<AddBackward0>)\n",
      "120 : tensor(0.0092, device='cuda:0', grad_fn=<AddBackward0>)\n",
      "121 : tensor(0.0092, device='cuda:0', grad_fn=<AddBackward0>)\n",
      "122 : tensor(0.0093, device='cuda:0', grad_fn=<AddBackward0>)\n",
      "123 : tensor(0.0092, device='cuda:0', grad_fn=<AddBackward0>)\n",
      "124 : tensor(0.0092, device='cuda:0', grad_fn=<AddBackward0>)\n",
      "125 : tensor(0.0092, device='cuda:0', grad_fn=<AddBackward0>)\n",
      "126 : tensor(0.0092, device='cuda:0', grad_fn=<AddBackward0>)\n",
      "127 : tensor(0.0092, device='cuda:0', grad_fn=<AddBackward0>)\n",
      "128 : tensor(0.0092, device='cuda:0', grad_fn=<AddBackward0>)\n",
      "129 : tensor(0.0093, device='cuda:0', grad_fn=<AddBackward0>)\n",
      "130 : tensor(0.0092, device='cuda:0', grad_fn=<AddBackward0>)\n",
      "131 : tensor(0.0092, device='cuda:0', grad_fn=<AddBackward0>)\n",
      "132 : tensor(0.0092, device='cuda:0', grad_fn=<AddBackward0>)\n",
      "133 : tensor(0.0092, device='cuda:0', grad_fn=<AddBackward0>)\n",
      "134 : tensor(0.0092, device='cuda:0', grad_fn=<AddBackward0>)\n",
      "135 : tensor(0.0092, device='cuda:0', grad_fn=<AddBackward0>)\n",
      "136 : tensor(0.0092, device='cuda:0', grad_fn=<AddBackward0>)\n",
      "137 : tensor(0.0092, device='cuda:0', grad_fn=<AddBackward0>)\n",
      "138 : tensor(0.0092, device='cuda:0', grad_fn=<AddBackward0>)\n",
      "139 : tensor(0.0092, device='cuda:0', grad_fn=<AddBackward0>)\n",
      "140 : tensor(0.0093, device='cuda:0', grad_fn=<AddBackward0>)\n",
      "141 : tensor(0.0092, device='cuda:0', grad_fn=<AddBackward0>)\n",
      "142 : tensor(0.0092, device='cuda:0', grad_fn=<AddBackward0>)\n",
      "143 : tensor(0.0092, device='cuda:0', grad_fn=<AddBackward0>)\n",
      "144 : tensor(0.0092, device='cuda:0', grad_fn=<AddBackward0>)\n",
      "145 : tensor(0.0092, device='cuda:0', grad_fn=<AddBackward0>)\n",
      "146 : tensor(0.0092, device='cuda:0', grad_fn=<AddBackward0>)\n",
      "147 : tensor(0.0092, device='cuda:0', grad_fn=<AddBackward0>)\n",
      "148 : tensor(0.0092, device='cuda:0', grad_fn=<AddBackward0>)\n",
      "149 : tensor(0.0093, device='cuda:0', grad_fn=<AddBackward0>)\n",
      "150 : tensor(0.0092, device='cuda:0', grad_fn=<AddBackward0>)\n",
      "151 : tensor(0.0092, device='cuda:0', grad_fn=<AddBackward0>)\n",
      "152 : tensor(0.0092, device='cuda:0', grad_fn=<AddBackward0>)\n",
      "153 : tensor(0.0092, device='cuda:0', grad_fn=<AddBackward0>)\n",
      "154 : tensor(0.0092, device='cuda:0', grad_fn=<AddBackward0>)\n",
      "155 : tensor(0.0092, device='cuda:0', grad_fn=<AddBackward0>)\n",
      "156 : tensor(0.0092, device='cuda:0', grad_fn=<AddBackward0>)\n",
      "157 : tensor(0.0092, device='cuda:0', grad_fn=<AddBackward0>)\n",
      "158 : tensor(0.0093, device='cuda:0', grad_fn=<AddBackward0>)\n",
      "159 : tensor(0.0092, device='cuda:0', grad_fn=<AddBackward0>)\n",
      "160 : tensor(0.0093, device='cuda:0', grad_fn=<AddBackward0>)\n",
      "161 : tensor(0.0092, device='cuda:0', grad_fn=<AddBackward0>)\n",
      "162 : tensor(0.0092, device='cuda:0', grad_fn=<AddBackward0>)\n",
      "163 : tensor(0.0092, device='cuda:0', grad_fn=<AddBackward0>)\n",
      "164 : tensor(0.0092, device='cuda:0', grad_fn=<AddBackward0>)\n",
      "165 : tensor(0.0092, device='cuda:0', grad_fn=<AddBackward0>)\n",
      "166 : tensor(0.0092, device='cuda:0', grad_fn=<AddBackward0>)\n",
      "167 : tensor(0.0092, device='cuda:0', grad_fn=<AddBackward0>)\n",
      "168 : tensor(0.0092, device='cuda:0', grad_fn=<AddBackward0>)\n",
      "169 : tensor(0.0092, device='cuda:0', grad_fn=<AddBackward0>)\n",
      "170 : tensor(0.0092, device='cuda:0', grad_fn=<AddBackward0>)\n",
      "171 : tensor(0.0092, device='cuda:0', grad_fn=<AddBackward0>)\n",
      "172 : tensor(0.0092, device='cuda:0', grad_fn=<AddBackward0>)\n",
      "173 : tensor(0.0092, device='cuda:0', grad_fn=<AddBackward0>)\n",
      "174 : tensor(0.0092, device='cuda:0', grad_fn=<AddBackward0>)\n",
      "175 : tensor(0.0092, device='cuda:0', grad_fn=<AddBackward0>)\n",
      "176 : tensor(0.0092, device='cuda:0', grad_fn=<AddBackward0>)\n",
      "177 : tensor(0.0092, device='cuda:0', grad_fn=<AddBackward0>)\n",
      "178 : tensor(0.0092, device='cuda:0', grad_fn=<AddBackward0>)\n",
      "179 : tensor(0.0092, device='cuda:0', grad_fn=<AddBackward0>)\n",
      "180 : tensor(0.0092, device='cuda:0', grad_fn=<AddBackward0>)\n",
      "181 : tensor(0.0092, device='cuda:0', grad_fn=<AddBackward0>)\n",
      "182 : tensor(0.0092, device='cuda:0', grad_fn=<AddBackward0>)\n",
      "183 : tensor(0.0092, device='cuda:0', grad_fn=<AddBackward0>)\n",
      "184 : tensor(0.0092, device='cuda:0', grad_fn=<AddBackward0>)\n",
      "185 : tensor(0.0092, device='cuda:0', grad_fn=<AddBackward0>)\n",
      "186 : tensor(0.0092, device='cuda:0', grad_fn=<AddBackward0>)\n",
      "187 : tensor(0.0092, device='cuda:0', grad_fn=<AddBackward0>)\n",
      "188 : tensor(0.0092, device='cuda:0', grad_fn=<AddBackward0>)\n",
      "189 : tensor(0.0092, device='cuda:0', grad_fn=<AddBackward0>)\n",
      "190 : tensor(0.0092, device='cuda:0', grad_fn=<AddBackward0>)\n",
      "191 : tensor(0.0092, device='cuda:0', grad_fn=<AddBackward0>)\n",
      "192 : tensor(0.0092, device='cuda:0', grad_fn=<AddBackward0>)\n",
      "193 : tensor(0.0092, device='cuda:0', grad_fn=<AddBackward0>)\n",
      "194 : tensor(0.0092, device='cuda:0', grad_fn=<AddBackward0>)\n",
      "195 : tensor(0.0092, device='cuda:0', grad_fn=<AddBackward0>)\n",
      "196 : tensor(0.0092, device='cuda:0', grad_fn=<AddBackward0>)\n",
      "197 : tensor(0.0092, device='cuda:0', grad_fn=<AddBackward0>)\n",
      "198 : tensor(0.0092, device='cuda:0', grad_fn=<AddBackward0>)\n",
      "199 : tensor(0.0092, device='cuda:0', grad_fn=<AddBackward0>)\n",
      "200 : tensor(0.0092, device='cuda:0', grad_fn=<AddBackward0>)\n",
      "Training epoch 200\n",
      "Error tensor(0.8739, device='cuda:0')\n",
      "mse test 0.8168726\n",
      "mse train 0.82778883\n"
     ]
    }
   ],
   "source": [
    "# Randomly select the sensors from the CA1 region\n",
    "\n",
    "for k in range(1):\n",
    "    neuron_locations = [1,3,18]\n",
    "    file_path = f\"/home/amy/SHRED_neuro/mice/data_output/exp_2.1/neuron_loc_{probe}_{k}.npy\"\n",
    "    print(file_path)\n",
    "    np.save(file_path, neuron_locations)\n",
    "    sc = MinMaxScaler()\n",
    "    sc = sc.fit(load_X[train_indices])\n",
    "    transformed_X = sc.transform(load_X)\n",
    "    ### Generate input sequences to a SHRED model\n",
    "    all_data_in = np.zeros((n_t - lags, lags, num_neurons))\n",
    "    for i in range(len(all_data_in)):\n",
    "        all_data_in[i] = transformed_X[i:i+lags, neuron_locations]\n",
    "\n",
    "    ### Generate training validation and test datasets both for reconstruction of states and forecasting sensors\n",
    "    device = 'cuda' if torch.cuda.is_available() else 'cpu'\n",
    "\n",
    "    train_data_in = torch.tensor(all_data_in[train_indices], dtype=torch.float32).to(device)\n",
    "    valid_data_in = torch.tensor(all_data_in[valid_indices], dtype=torch.float32).to(device)\n",
    "    test_data_in = torch.tensor(all_data_in[test_indices], dtype=torch.float32).to(device)\n",
    "\n",
    "    ### -1 to have output be at the same time as final sensor measurements\n",
    "    train_data_out = torch.tensor(transformed_X[train_indices + lags - 1], dtype=torch.float32).to(device)\n",
    "    valid_data_out = torch.tensor(transformed_X[valid_indices + lags - 1], dtype=torch.float32).to(device)\n",
    "    test_data_out = torch.tensor(transformed_X[test_indices + lags - 1], dtype=torch.float32).to(device)\n",
    "\n",
    "    train_dataset = TimeSeriesDataset(train_data_in, train_data_out)\n",
    "    valid_dataset = TimeSeriesDataset(valid_data_in, valid_data_out)\n",
    "    test_dataset = TimeSeriesDataset(test_data_in, test_data_out)\n",
    "\n",
    "    shred = sindy_shred.SINDy_SHRED(num_neurons, n_s, hidden_size=latent_dim, hidden_layers=2, l1=350, l2=400, dropout=0.1,\n",
    "                                    library_dim=library_dim, poly_order=poly_order,\n",
    "                                    include_sine=include_sine, dt=dt, layer_norm=False).to(device)\n",
    "\n",
    "    validation_errors = sindy_shred.fit(shred, train_dataset, valid_dataset, batch_size=128, num_epochs=200,\n",
    "                                        lr=1e-3, verbose=True, threshold=0.25, patience=5, sindy_regularization=10.0,\n",
    "                                        optimizer=\"AdamW\", thres_epoch=100)\n",
    "\n",
    "    test_recons = sc.inverse_transform(shred(test_dataset.X).detach().cpu().numpy())\n",
    "    test_ground_truth = sc.inverse_transform(test_dataset.Y.detach().cpu().numpy())\n",
    "    mse_test = np.linalg.norm(test_recons - test_ground_truth) / np.linalg.norm(test_ground_truth)\n",
    "    print('mse test', mse_test)\n",
    "    train_recons = sc.inverse_transform(shred(train_dataset.X).detach().cpu().numpy())\n",
    "    train_ground_truth = sc.inverse_transform(train_dataset.Y.detach().cpu().numpy())\n",
    "    mse_train = np.linalg.norm(train_recons - train_ground_truth) / np.linalg.norm(train_ground_truth)\n",
    "    print('mse train', mse_train)\n",
    "\n",
    "\n",
    "    file_path = f\"/home/amy/SHRED_neuro/mice/data_output/exp_2.1/train_recons_{probe}_{k}.npy\"\n",
    "    np.save(file_path, train_recons)\n",
    "    file_path = f\"/home/amy/SHRED_neuro/mice/data_output/exp_2.1/test_recons_{probe}_{k}.npy\"\n",
    "    np.save(file_path, test_recons)\n",
    "    file_path = f\"/home/amy/SHRED_neuro/mice/data_output/exp_2.1/train_gt_{probe}_{k}.npy\"\n",
    "    np.save(file_path, train_ground_truth)\n",
    "    file_path = f\"/home/amy/SHRED_neuro/mice/data_output/exp_2.1/test_gt_{probe}_{k}.npy\"\n",
    "    np.save(file_path, test_ground_truth)\n",
    "    file_path = f\"/home/amy/SHRED_neuro/mice/data_output/exp_2.1/mse_{probe}_{k}.npy\"\n",
    "    np.save(file_path, [mse_train, mse_test])"
   ]
  },
  {
   "cell_type": "code",
   "execution_count": null,
   "id": "5b828417",
   "metadata": {},
   "outputs": [],
   "source": [
    "test_recons = sc.inverse_transform(shred(test_dataset.X).detach().cpu().numpy())\n",
    "test_ground_truth = sc.inverse_transform(test_dataset.Y.detach().cpu().numpy())\n",
    "mse_test = np.linalg.norm(test_recons - test_ground_truth) / np.linalg.norm(test_ground_truth)\n",
    "print('mse test', mse_test)\n",
    "train_recons = sc.inverse_transform(shred(train_dataset.X).detach().cpu().numpy())\n",
    "train_ground_truth = sc.inverse_transform(train_dataset.Y.detach().cpu().numpy())\n",
    "mse_train = np.linalg.norm(train_recons - train_ground_truth) / np.linalg.norm(train_ground_truth)\n",
    "print('mse train', mse_train)"
   ]
  },
  {
   "cell_type": "code",
   "execution_count": 106,
   "id": "5498dc6a",
   "metadata": {},
   "outputs": [
    {
     "data": {
      "image/png": "[encoded data removed]",
      "text/plain": [
       "<Figure size 640x480 with 1 Axes>"
      ]
     },
     "metadata": {},
     "output_type": "display_data"
    },
    {
     "data": {
      "text/plain": [
       "[<matplotlib.lines.Line2D at 0x7c373ddbab60>]"
      ]
     },
     "execution_count": 106,
     "metadata": {},
     "output_type": "execute_result"
    },
    {
     "data": {
      "image/png": "[encoded data removed]",
      "text/plain": [
       "<Figure size 640x480 with 1 Axes>"
      ]
     },
     "metadata": {},
     "output_type": "display_data"
    }
   ],
   "source": [
    "data_recon = np.load(\"/home/amy/SHRED_neuro/mice/data_output/exp_2.1/train_recons_a_0.npy\")\n",
    "plt.plot(data_recon[:,8].T)\n",
    "plt.show()\n",
    "data_gt = np.load(\"/home/amy/SHRED_neuro/mice/data_output/exp_2.1/train_gt_a_0.npy\")\n",
    "plt.plot(data_gt[:,8].T)\n"
   ]
  },
  {
   "cell_type": "code",
   "execution_count": null,
   "id": "a9396a10",
   "metadata": {},
   "outputs": [],
   "source": []
  }
 ],
 "metadata": {
  "kernelspec": {
   "display_name": "neuroenv",
   "language": "python",
   "name": "python3"
  },
  "language_info": {
   "codemirror_mode": {
    "name": "ipython",
    "version": 3
   },
   "file_extension": ".py",
   "mimetype": "text/x-python",
   "name": "python",
   "nbconvert_exporter": "python",
   "pygments_lexer": "ipython3",
   "version": "3.10.12"
  }
 },
 "nbformat": 4,
 "nbformat_minor": 5
}
